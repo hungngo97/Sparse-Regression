{
  "nbformat": 4,
  "nbformat_minor": 0,
  "metadata": {
    "colab": {
      "name": "main.ipynb",
      "version": "0.3.2",
      "provenance": [],
      "include_colab_link": true
    },
    "kernelspec": {
      "name": "python3",
      "display_name": "Python 3"
    },
    "accelerator": "GPU"
  },
  "cells": [
    {
      "cell_type": "markdown",
      "metadata": {
        "id": "view-in-github",
        "colab_type": "text"
      },
      "source": [
        "<a href=\"https://colab.research.google.com/github/hungngo97/Sparse-Regression/blob/master/main.ipynb\" target=\"_parent\"><img src=\"https://colab.research.google.com/assets/colab-badge.svg\" alt=\"Open In Colab\"/></a>"
      ]
    },
    {
      "metadata": {
        "id": "mjt8SLb1eJT0",
        "colab_type": "code",
        "colab": {}
      },
      "cell_type": "code",
      "source": [
        "# BZ dataset: https://scipython.com/blog/simulating-the-belousov-zhabotinsky-reaction/\n",
        "# STEP2: Sparse Regression\n",
        "# TODO: Read Kutz's notes\n",
        "\n",
        "# STep3: KL divergence\n",
        "# https://bigdatascientistblog.wordpress.com/2017/09/11/a-simple-introduction-to-kullback-leibler-divergence-through-python-code/\n",
        "\n",
        "# tep4: AIC BIC\n",
        "# https://www.reddit.com/r/statistics/comments/5h2rbw/does_python_have_a_package_for_aicbic/\n",
        "# https://en.wikipedia.org/wiki/Akaike_information_criterion\n",
        "#   https://en.wikipedia.org/wiki/Bayesian_information_criterion"
      ],
      "execution_count": 0,
      "outputs": []
    },
    {
      "metadata": {
        "id": "frrBu1XgyDQu",
        "colab_type": "text"
      },
      "cell_type": "markdown",
      "source": [
        "# Section 1: Reading data set concerning Canadian lynx and snowshoe hare populations from 1845 to 1903.\n",
        "The given data is in .mat file so it is more complicated to read data from\n",
        "#1.1: Google Auth Permission to Access Google Drive\n"
      ]
    },
    {
      "metadata": {
        "id": "pBNuoe8nyR23",
        "colab_type": "code",
        "colab": {}
      },
      "cell_type": "code",
      "source": [
        "# Code to read csv file into Colaboratory:\n",
        "\n",
        "!pip install -U -q PyDrive\n",
        "from pydrive.auth import GoogleAuth\n",
        "from pydrive.drive import GoogleDrive\n",
        "from google.colab import auth\n",
        "from oauth2client.client import GoogleCredentials\n",
        "\n",
        "# Authenticate and create the PyDrive client.\n",
        "auth.authenticate_user()\n",
        "gauth = GoogleAuth()\n",
        "gauth.credentials = GoogleCredentials.get_application_default()\n",
        "drive = GoogleDrive(gauth)"
      ],
      "execution_count": 0,
      "outputs": []
    },
    {
      "metadata": {
        "id": "ijADgfEfygWr",
        "colab_type": "code",
        "outputId": "807754b6-3f22-4bae-ca42-26ccd608aa9c",
        "colab": {
          "base_uri": "https://localhost:8080/",
          "height": 51
        }
      },
      "cell_type": "code",
      "source": [
        "filenames = ['BZ.mat', 'population.mat']\n",
        "links = ['https://drive.google.com/open?id=1MT9PgT8iItCGyD3zUgcG3kLjDaAp2Wnw',\n",
        "         'https://drive.google.com/open?id=1r9Hg_rwMie2tC8UuqE3gAURABFPkn-VZ']\n",
        "for index, filename in enumerate(filenames):\n",
        "  _, id = links[index].split('=')\n",
        "  print (id) # Verify that you have everything after '='\n",
        "  downloaded = drive.CreateFile({'id':id}) \n",
        "  downloaded.GetContentFile(filename)"
      ],
      "execution_count": 3,
      "outputs": [
        {
          "output_type": "stream",
          "text": [
            "1MT9PgT8iItCGyD3zUgcG3kLjDaAp2Wnw\n",
            "1r9Hg_rwMie2tC8UuqE3gAURABFPkn-VZ\n"
          ],
          "name": "stdout"
        }
      ]
    },
    {
      "metadata": {
        "id": "En0JXwK5zcuP",
        "colab_type": "code",
        "outputId": "e0f313e5-828f-4bcd-ad6e-1c0a6c556d94",
        "colab": {
          "base_uri": "https://localhost:8080/",
          "height": 105
        }
      },
      "cell_type": "code",
      "source": [
        "!pip install hdf5storage\n",
        "import hdf5storage\n",
        "mat = hdf5storage.loadmat(filenames[0])"
      ],
      "execution_count": 4,
      "outputs": [
        {
          "output_type": "stream",
          "text": [
            "Requirement already satisfied: hdf5storage in /usr/local/lib/python3.6/dist-packages (0.1.15)\n",
            "Requirement already satisfied: numpy; python_version >= \"3.4\" in /usr/local/lib/python3.6/dist-packages (from hdf5storage) (1.16.3)\n",
            "Requirement already satisfied: h5py>=2.1; python_version >= \"3.3\" in /usr/local/lib/python3.6/dist-packages (from hdf5storage) (2.8.0)\n",
            "Requirement already satisfied: six in /usr/local/lib/python3.6/dist-packages (from h5py>=2.1; python_version >= \"3.3\"->hdf5storage) (1.12.0)\n"
          ],
          "name": "stdout"
        }
      ]
    },
    {
      "metadata": {
        "id": "Pa8eKNjaz2XX",
        "colab_type": "code",
        "colab": {}
      },
      "cell_type": "code",
      "source": [
        "BZ_tensor = mat['BZ_tensor']\n",
        "# Shape = (351, 451, 1200)"
      ],
      "execution_count": 0,
      "outputs": []
    },
    {
      "metadata": {
        "id": "Yn0ahS820LRJ",
        "colab_type": "code",
        "colab": {}
      },
      "cell_type": "code",
      "source": [
        "import numpy as np\n",
        "import pandas as pd \n",
        "import matplotlib.pyplot as plt\n",
        "import time\n",
        "m,n,k=BZ_tensor.shape # x vs y vs time data\n",
        "\n",
        "#m by n is too big, therefore we can try to crop it\n",
        "row_start = 150\n",
        "row_end = 200\n",
        "column_start = 200\n",
        "column_end = 250\n",
        "def plot_timestep(timestep):  \n",
        "  A=BZ_tensor[:,:,timestep]\n",
        "  plt.imshow(A)\n",
        "  plt.colorbar(orientation=\"horizontal\", pad=0.2)\n",
        "def plot_timestep_cropped(timestep):  \n",
        "  A=BZ_tensor[row_start: row_end,column_start:column_end,timestep]\n",
        "  plt.imshow(A)\n",
        "  plt.colorbar(orientation=\"horizontal\", pad=0.2)"
      ],
      "execution_count": 0,
      "outputs": []
    },
    {
      "metadata": {
        "id": "r8OfvOw73JT6",
        "colab_type": "code",
        "outputId": "365917a7-a96c-478b-c2c7-0ac4941588eb",
        "colab": {
          "base_uri": "https://localhost:8080/",
          "height": 253
        }
      },
      "cell_type": "code",
      "source": [
        "plot_timestep_cropped(200)"
      ],
      "execution_count": 10,
      "outputs": [
        {
          "output_type": "display_data",
          "data": {
            "image/png": "[encoded data removed]",
            "text/plain": [
              "<Figure size 432x288 with 2 Axes>"
            ]
          },
          "metadata": {
            "tags": []
          }
        }
      ]
    },
    {
      "metadata": {
        "id": "ApCbPiLeQYmD",
        "colab_type": "code",
        "colab": {}
      },
      "cell_type": "code",
      "source": [
        "X = None\n",
        "k = 100\n",
        "# row_start = 0\n",
        "# row_end = m\n",
        "# colummn_start = 0\n",
        "# column_end = n\n",
        "\n",
        "\n",
        "for t in range(k):\n",
        "  X_t = BZ_tensor[row_start: row_end,column_start:column_end,t]\n",
        "  x = np.zeros((1,n))\n",
        "  for i in range(row_end - row_start):\n",
        "    x = np.concatenate((x, X_t[i,:]),axis=None)\n",
        "  if X is None:\n",
        "    X = x\n",
        "  else:\n",
        "    X = np.vstack((X, x))"
      ],
      "execution_count": 0,
      "outputs": []
    },
    {
      "metadata": {
        "id": "7AGClzzgQ4NG",
        "colab_type": "code",
        "colab": {
          "base_uri": "https://localhost:8080/",
          "height": 286
        },
        "outputId": "77d4768b-c771-45a1-d24f-7ca68400028c"
      },
      "cell_type": "code",
      "source": [
        "# TODO: Try to perform SVD?\n",
        "X = np.transpose(X)\n",
        "[u,s,v]= np.linalg.svd(X, full_matrices=False)\n",
        "plt.scatter(range(s.shape[0]), s/(np.sum(np.diag(s))))\n",
        "#TODO: Data should be in the shape of each column is a state in 1 timestep and \n",
        "# columns by columns are next timesteps. aka (1 timestep = 1 column)\n",
        "# Udot = np.transpose(Xdot)     \n",
        "# Udot = np.reshape(Udot, n*m*(k - 2), 1)"
      ],
      "execution_count": 18,
      "outputs": [
        {
          "output_type": "execute_result",
          "data": {
            "text/plain": [
              "<matplotlib.collections.PathCollection at 0x7f82e022fac8>"
            ]
          },
          "metadata": {
            "tags": []
          },
          "execution_count": 18
        },
        {
          "output_type": "display_data",
          "data": {
            "image/png": "[encoded data removed]",
            "text/plain": [
              "<Figure size 432x288 with 1 Axes>"
            ]
          },
          "metadata": {
            "tags": []
          }
        }
      ]
    },
    {
      "metadata": {
        "id": "q8zUFm4PnUZv",
        "colab_type": "code",
        "colab": {}
      },
      "cell_type": "code",
      "source": [
        "dt= 1; #Not sure\n",
        "m,n = X.shape; \n",
        "\n",
        "Xdot = np.zeros((m, n - 2))\n",
        "for jj in range(m):\n",
        "  for j in range(1, n - 1):\n",
        "    Xdot[jj, j - 1] = (X[jj, j + 1] - X[jj, j - 1]) / (2 * dt)\n",
        "\n",
        "\n",
        "# Xdot=zeros(m,n-2);\n",
        "# for jj=1:m  % walk through rows (space)\n",
        "# for j=2:n-1  % walk through time\n",
        "#    Xdot(jj,j-1)=( X(jj,j+1)-X(jj,j-1) )/(2*dt);\n",
        "# end\n",
        "# end\n",
        "\n",
        "# u=reshape( X(:,2:end-1).',(n-2)*m ,1 );\n",
        "\n",
        "# for jj=2:n-1\n",
        "#    ux(jj-1,:)=((D*X(:,jj)).');  % u_x\n",
        "#    uxx(jj-1,:)=((D2*X(:,jj)).');  % u_xx\n",
        "#    u2x(jj-1,:)=((D* (X(:,jj).^2) ).');  % (u^2)_x\n",
        "# end\n",
        "\n",
        "# Ux=reshape(ux,(n-2)*m,1);\n",
        "# Uxx=reshape(uxx,(n-2)*m,1);\n",
        "# U2x=reshape(u2x,(n-2)*m,1);\n",
        "\n",
        "# A=[u u.^2 u.^3 Ux Uxx U2x Ux.*u Ux.*Ux Ux.*Uxx];\n",
        "\n",
        "# Udot=reshape((Xdot.'),(n-2)*m,1);\n",
        "# %xi=A\\Udot;\n",
        "# xi=lasso(A,Udot,'Lambda',0.002);\n",
        "# bar(xi)\n",
        "\n",
        "\n",
        "\n",
        "\n"
      ],
      "execution_count": 0,
      "outputs": []
    },
    {
      "metadata": {
        "id": "ks1pH5sTpYIF",
        "colab_type": "code",
        "colab": {}
      },
      "cell_type": "code",
      "source": [
        "# Derivative matrix\n",
        "dx = np.add(np.subtract(X[:,0], X[:, 1]), 1e-1)\n",
        "dx = dx.reshape((-1, 1))\n",
        "# % derv matrices\n",
        "# dx=x(2)-x(1);\n",
        "\n",
        "D = np.zeros((m, m)) # m by m is too big \n",
        "D2 = np.zeros((m, m))\n",
        "\n",
        "for j in range(m - 1):\n",
        "  D[j, j + 1] = 1\n",
        "  D[j + 1, j] = -1\n",
        "  D2[j, j + 1] = 1\n",
        "  D2[j + 1, j] = 1\n",
        "  D2[j, j] = -2\n"
      ],
      "execution_count": 0,
      "outputs": []
    },
    {
      "metadata": {
        "id": "nVTMEy5ts_xh",
        "colab_type": "code",
        "colab": {}
      },
      "cell_type": "code",
      "source": [
        "D[m - 1, 0] = 1\n",
        "D[0, m - 1] = -1\n",
        "D = (1 / (2 * dx)) * D\n",
        "D2[m - 1, m - 1] = -2\n",
        "D2[m - 1, 0] = 1\n",
        "D2[0, m - 1] = 1\n",
        "D2 = D2 / (np.power(dx, 2))\n"
      ],
      "execution_count": 0,
      "outputs": []
    },
    {
      "metadata": {
        "id": "Xfvrbzh0wC3o",
        "colab_type": "code",
        "colab": {}
      },
      "cell_type": "code",
      "source": [
        "u = np.reshape( np.transpose(X[:, 1:n -1]), ((n - 2) * m, 1))\n",
        "# u=reshape( X(:,2:end-1).',(n-2)*m ,1 );\n",
        "\n",
        "ux = np.zeros((n - 2, m))\n",
        "uxx = np.zeros((n - 2, m))\n",
        "u2x = np.zeros((n - 2, m))\n",
        "for jj in range(1, n - 1):\n",
        "  currentState = np.reshape(X[:, jj], (-1, 1))\n",
        "  ux[jj - 1, :] = (np.transpose((np.matmul(D,currentState))))\n",
        "  uxx[jj - 1, :] = (np.transpose(np.matmul(D2, currentState)))\n",
        "  uxx[jj - 1, :] = (np.transpose(np.matmul(D,(np.power(currentState, 2)))))\n",
        "\n",
        "# for jj=2:n-1\n",
        "#    ux(jj-1,:)=((D*X(:,jj)).');  % u_x\n",
        "#    uxx(jj-1,:)=((D2*X(:,jj)).');  % u_xx\n",
        "#    u2x(jj-1,:)=((D* (X(:,jj).^2) ).');  % (u^2)_x\n",
        "# end\n",
        "\n",
        "ux = np.reshape(ux, ((n - 2 * m) , 1))\n",
        "uxx = np.reshape(uxx, ((n - 2 * m) , 1))\n",
        "u2x = np.reshape(u2x, ((n - 2 * m) , 1))\n",
        "\n",
        "# A=[u u.^2 u.^3 Ux Uxx U2x Ux.*u Ux.*Ux Ux.*Uxx];\n",
        "u2 = np.power(u,2)\n",
        "u3 = np.power(u,3)\n",
        "u4 = np.power(u, 4)\n",
        "ux2 = np.power(ux, 2)\n",
        "ux3 = np.power(ux, 3)\n",
        "uux = np.multiply(ux, u)\n",
        "uxux = np.multiply(ux,ux)\n",
        "uxuxx = np.multiply(ux, uxx)\n",
        "A = np.array([u, u2, u3, u4, ux, ux2, ux3,  uxx, u2x, uux, uxux, uxuxx])[:,:,0]\n",
        "library = A.shape[1]\n",
        "Udot = np.reshape(np.transpose(Xdot), ((n - 2) * m, 1))\n",
        "# Udot=reshape((Xdot.'),(n-2)*m,1);\n"
      ],
      "execution_count": 0,
      "outputs": []
    },
    {
      "metadata": {
        "id": "FJQcQ26T5zVk",
        "colab_type": "code",
        "colab": {
          "base_uri": "https://localhost:8080/",
          "height": 122
        },
        "outputId": "68c92fd5-5964-402c-de0c-38ad843e1d0a"
      },
      "cell_type": "code",
      "source": [
        "from sklearn import linear_model\n",
        "\n",
        "# A x = b\n",
        "# b = (289198,1)\n",
        "# A = (9, 289198)\n",
        "# (289198, 9) * (9, 1) = (289198, 1)\n",
        "#Lasso\n",
        "A = np.transpose(A)\n",
        "clf_lasso_BZ = linear_model.Lasso(alpha=0.5)\n",
        "clf_lasso_BZ.fit(A[()], Udot)"
      ],
      "execution_count": 100,
      "outputs": [
        {
          "output_type": "stream",
          "text": [
            "/usr/local/lib/python3.6/dist-packages/sklearn/linear_model/coordinate_descent.py:492: ConvergenceWarning: Objective did not converge. You might want to increase the number of iterations. Fitting data with very small alpha may cause precision problems.\n",
            "  ConvergenceWarning)\n"
          ],
          "name": "stderr"
        },
        {
          "output_type": "execute_result",
          "data": {
            "text/plain": [
              "Lasso(alpha=0.5, copy_X=True, fit_intercept=True, max_iter=1000,\n",
              "   normalize=False, positive=False, precompute=False, random_state=None,\n",
              "   selection='cyclic', tol=0.0001, warm_start=False)"
            ]
          },
          "metadata": {
            "tags": []
          },
          "execution_count": 100
        }
      ]
    },
    {
      "metadata": {
        "id": "NPJLZaH_68mz",
        "colab_type": "code",
        "colab": {
          "base_uri": "https://localhost:8080/",
          "height": 286
        },
        "outputId": "3e69ca7d-1e45-41ea-d27c-051c6e93424f"
      },
      "cell_type": "code",
      "source": [
        "plt.bar(range(12), clf_lasso_BZ.coef_)"
      ],
      "execution_count": 106,
      "outputs": [
        {
          "output_type": "execute_result",
          "data": {
            "text/plain": [
              "<BarContainer object of 12 artists>"
            ]
          },
          "metadata": {
            "tags": []
          },
          "execution_count": 106
        },
        {
          "output_type": "display_data",
          "data": {
            "image/png": "[encoded data removed]",
            "text/plain": [
              "<Figure size 432x288 with 1 Axes>"
            ]
          },
          "metadata": {
            "tags": []
          }
        }
      ]
    },
    {
      "metadata": {
        "id": "dFc7kA1_I1Ji",
        "colab_type": "text"
      },
      "cell_type": "markdown",
      "source": [
        "# Part 1: Predator-Prey Model\n"
      ]
    },
    {
      "metadata": {
        "id": "OwowLi40TCAI",
        "colab_type": "code",
        "colab": {}
      },
      "cell_type": "code",
      "source": [
        "from scipy.io import loadmat\n",
        "\n",
        "data = loadmat('population.mat')"
      ],
      "execution_count": 0,
      "outputs": []
    },
    {
      "metadata": {
        "id": "bRET7D5NP_Z5",
        "colab_type": "code",
        "colab": {}
      },
      "cell_type": "code",
      "source": [
        "x1 = data['hare']\n",
        "x2 = data['lynx']\n",
        "t = data['year']\n",
        "dt=2\n",
        "x0=[x1[0] , x2[0]]"
      ],
      "execution_count": 0,
      "outputs": []
    },
    {
      "metadata": {
        "id": "Sv6jCE_9VYbo",
        "colab_type": "text"
      },
      "cell_type": "markdown",
      "source": [
        "Since the data space is too small to fit a Lasso regression, which might lead to overfitting the data, we need to augment more data by interpolating new data from existing data points using a curve fit interpolation from Scipy"
      ]
    },
    {
      "metadata": {
        "id": "yHfA6Tx5VWz6",
        "colab_type": "code",
        "colab": {}
      },
      "cell_type": "code",
      "source": [
        "from scipy.interpolate import interp1d\n",
        "f_hare = interp1d(t.squeeze(), x1.squeeze(), kind='cubic')\n",
        "f_lynx = interp1d(t.squeeze(), x2.squeeze(), kind='cubic')\n",
        "t = np.linspace(1845, 1903, num=120, endpoint=True)\n",
        "x1 = f_hare(t)\n",
        "x2 = f_lynx(t)\n",
        "x1 = np.reshape(x1,(-1, 1))\n",
        "x2 = np.reshape(x2, (-1, 1))\n",
        "plt.plot(t,x1,t,x2)"
      ],
      "execution_count": 0,
      "outputs": []
    },
    {
      "metadata": {
        "id": "-lWr18B2QZEM",
        "colab_type": "code",
        "colab": {}
      },
      "cell_type": "code",
      "source": [
        "n= t.size\n",
        "x1dot = np.zeros((n-2,1))\n",
        "x2dot = np.zeros((n-2,1))\n",
        "for j in range(1,n-1):\n",
        "  x1dot[j-1]=(x1[j+1]-x1[j-1])/(2*dt)\n",
        "  x2dot[j-1]=(x2[j+1]-x2[j-1])/(2*dt)\n",
        "\n",
        "x1s=x1[1:n-1]\n",
        "x2s=x2[1:n-1]\n",
        "A=np.array([x1s, x2s, np.power(x1s,2), np.multiply(x1s,x2s), np.power(x2s,2),\n",
        "            np.power(x1s,3), np.multiply(np.power(x2s,2), np.power(x1s,2)), \n",
        "            np.power(x2s,3)])[:,:,0]\n",
        "A = np.transpose(A)\n"
      ],
      "execution_count": 0,
      "outputs": []
    },
    {
      "metadata": {
        "id": "0T7dQjXQRF_S",
        "colab_type": "code",
        "colab": {}
      },
      "cell_type": "code",
      "source": [
        "from sklearn import linear_model\n",
        "\n",
        "# A x = b\n",
        "# b = (28,1)\n",
        "# A = (8, 28)\n",
        "# (8, 28) *    (8, 1)   = (28,1)\n",
        "#Lasso\n",
        "clf_lasso_x1 = linear_model.Lasso(alpha=0.5)\n",
        "clf_lasso_x1.fit(A[()], x1dot)"
      ],
      "execution_count": 0,
      "outputs": []
    },
    {
      "metadata": {
        "id": "GxjroYBuUmHQ",
        "colab_type": "code",
        "colab": {}
      },
      "cell_type": "code",
      "source": [
        "plt.bar(range(8), clf_lasso_x1.coef_)"
      ],
      "execution_count": 0,
      "outputs": []
    },
    {
      "metadata": {
        "id": "-uZlaSTbU23l",
        "colab_type": "code",
        "colab": {}
      },
      "cell_type": "code",
      "source": [
        "clf_lasso_x2 = linear_model.Lasso(alpha=0.5)\n",
        "clf_lasso_x2.fit(A[()], x2dot)\n",
        "plt.bar(range(8), clf_lasso_x2.coef_)"
      ],
      "execution_count": 0,
      "outputs": []
    },
    {
      "metadata": {
        "id": "CI2SwT9RYmwC",
        "colab_type": "code",
        "colab": {}
      },
      "cell_type": "code",
      "source": [
        "coefficients = clf_lasso_x1.coef_.argsort()[-3:][::-1] #Get index of top 3 values\n",
        "y_predicted = np.zeros((118, 1))\n",
        "for index in coefficients:\n",
        "  print(index)\n",
        "  y_predicted = np.add(y_predicted, np.reshape(A[:, index]*  clf_lasso_x1.coef_[index], (-1, 1)))\n"
      ],
      "execution_count": 0,
      "outputs": []
    },
    {
      "metadata": {
        "id": "02pixe8hZMCe",
        "colab_type": "code",
        "colab": {}
      },
      "cell_type": "code",
      "source": [
        "plt.plot(t[1:120-1], y_predicted, t[1:120-1], x1[1:120-1])"
      ],
      "execution_count": 0,
      "outputs": []
    },
    {
      "metadata": {
        "id": "xT5Izapma5hP",
        "colab_type": "code",
        "colab": {}
      },
      "cell_type": "code",
      "source": [
        "from scipy import stats\n",
        "print (stats.entropy(pk=x1[1:120-1], qk=y_predicted))"
      ],
      "execution_count": 0,
      "outputs": []
    },
    {
      "metadata": {
        "id": "6rpiC89rdsyJ",
        "colab_type": "code",
        "colab": {}
      },
      "cell_type": "code",
      "source": [
        "# TODO: checkout this AIC BIC formulas\n",
        "# https://www.mathworks.com/matlabcentral/answers/195674-neural-network-aic-and-bic-calculation-number-of-parameters\n",
        "# AIC, BIC calculation\n",
        "resid = x1[1:120-1] - y_predicted\n",
        "sse = sum(resid**2)\n",
        "k= 3\n",
        "AIC= 2*k - 2*np.log((sse))\n",
        "n = 118\n",
        "BIC = n*np.log(sse/n) + k*np.log(n)\n",
        "print(AIC)\n",
        "print(BIC)"
      ],
      "execution_count": 0,
      "outputs": []
    },
    {
      "metadata": {
        "id": "Xr26Oz1Sh2le",
        "colab_type": "text"
      },
      "cell_type": "markdown",
      "source": [
        "#Perform Time-Delayed Embeddings"
      ]
    },
    {
      "metadata": {
        "id": "hO395UbTee1P",
        "colab_type": "code",
        "colab": {}
      },
      "cell_type": "code",
      "source": [
        "# H=[x1[0:110],\n",
        "#    x1[1:111],\n",
        "#    x1[2:112],\n",
        "#    x1[3:113],\n",
        "#    x1[4:114],\n",
        "#    x1[5:115],\n",
        "#    x1[6:116],\n",
        "#    x1[7:117]];\n",
        "\n",
        "def build_hankel_matrix(x, layers):\n",
        "  size = x.shape[0]\n",
        "  H = np.zeros((1, size - layers)) #(1, 107)\n",
        "#   print(\"From \\t To\")\n",
        "  for i in range(layers):\n",
        "#     print(str(i) + \"\\t \" + str(size - layers + i))\n",
        "    H = np.vstack((H, np.transpose(x1[i : size - layers + i])))\n",
        "  return H\n",
        "\n",
        "layers = 50\n",
        "H = build_hankel_matrix(x1, layers)\n",
        "[u,s,v]= np.linalg.svd(H)\n",
        "plt.scatter(range(layers + 1), s/(np.sum(np.diag(s))))\n",
        "\n",
        "H2 = build_hankel_matrix(x2, layers)\n",
        "[u,s,v]= np.linalg.svd(H2)\n",
        "plt.scatter(range(layers + 1), s/(np.sum(np.diag(s))))\n",
        "\n",
        "\n",
        "\n",
        "\n",
        "\n",
        "# figure(6), plot(300*v(:,4),'Linewidth',[2])\n",
        "# hold on\n",
        "# plot(x(1:5000))"
      ],
      "execution_count": 0,
      "outputs": []
    },
    {
      "metadata": {
        "id": "4GuxJ5xnjFYY",
        "colab_type": "code",
        "colab": {}
      },
      "cell_type": "code",
      "source": [
        "plt.plot(u[:,1:5])"
      ],
      "execution_count": 0,
      "outputs": []
    },
    {
      "metadata": {
        "id": "k6omqRzwQXXl",
        "colab_type": "code",
        "colab": {}
      },
      "cell_type": "code",
      "source": [
        "from mpl_toolkits import mplot3d\n",
        "ax = plt.axes(projection='3d')\n",
        "# plt.plot3(v[:,1],v[:,2],v[:,3])\n",
        "ax.plot3D(v[:,1],v[:,2],v[:,3], 'gray')\n",
        "ax.scatter3D(v[:,1],v[:,2],v[:,3], c=v[:,3], cmap='Greens');"
      ],
      "execution_count": 0,
      "outputs": []
    },
    {
      "metadata": {
        "id": "ynHJSDOGQfiq",
        "colab_type": "code",
        "colab": {}
      },
      "cell_type": "code",
      "source": [
        ""
      ],
      "execution_count": 0,
      "outputs": []
    }
  ]
}