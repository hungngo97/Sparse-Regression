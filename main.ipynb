{
  "nbformat": 4,
  "nbformat_minor": 0,
  "metadata": {
    "colab": {
      "name": "main.ipynb",
      "version": "0.3.2",
      "provenance": [],
      "include_colab_link": true
    },
    "kernelspec": {
      "name": "python3",
      "display_name": "Python 3"
    }
  },
  "cells": [
    {
      "cell_type": "markdown",
      "metadata": {
        "id": "view-in-github",
        "colab_type": "text"
      },
      "source": [
        "<a href=\"https://colab.research.google.com/github/hungngo97/Sparse-Regression/blob/master/main.ipynb\" target=\"_parent\"><img src=\"https://colab.research.google.com/assets/colab-badge.svg\" alt=\"Open In Colab\"/></a>"
      ]
    },
    {
      "metadata": {
        "id": "mjt8SLb1eJT0",
        "colab_type": "code",
        "colab": {}
      },
      "cell_type": "code",
      "source": [
        "# STEP1 : Read .mat files\n",
        "# https://scipy-cookbook.readthedocs.io/items/Reading_mat_files.html\n",
        "#Saving .mat file to CSV and upload to github to read data for future usage\n",
        "# https://towardsdatascience.com/3-ways-to-load-csv-files-into-colab-7c14fcbdcb92\n",
        "\n",
        "\n",
        "\n",
        "# TODO: Try to visualize Kutz's Matlab code\n",
        "# [m,n,k]=size(BZ_tensor); % x vs y vs time data\n",
        "# for j=1:k\n",
        "# A=BZ_tensor(:,:,j);\n",
        "# pcolor(A), shading interp, pause(0.2)\n",
        "# end\n",
        "\n",
        "# STEP2: Sparse Regression\n",
        "# TODO: Read Kutz's notes\n",
        "\n",
        "# STep3: KL divergence\n",
        "# https://bigdatascientistblog.wordpress.com/2017/09/11/a-simple-introduction-to-kullback-leibler-divergence-through-python-code/\n",
        "\n",
        "# tep4: AIC BIC\n",
        "# https://www.reddit.com/r/statistics/comments/5h2rbw/does_python_have_a_package_for_aicbic/\n",
        "# https://en.wikipedia.org/wiki/Akaike_information_criterion\n",
        "#   https://en.wikipedia.org/wiki/Bayesian_information_criterion"
      ],
      "execution_count": 0,
      "outputs": []
    }
  ]
}